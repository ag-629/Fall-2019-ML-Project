{
 "cells": [
  {
   "cell_type": "markdown",
   "metadata": {},
   "source": [
    "config"
   ]
  },
  {
   "cell_type": "code",
   "execution_count": 12,
   "metadata": {},
   "outputs": [],
   "source": [
    "import psycopg2\n",
    "import random\n",
    "import json\n",
    "import numpy as np\n",
    "import matplotlib.pyplot as plt\n",
    "\n",
    "from sklearn.model_selection import train_test_split\n",
    "from sklearn.preprocessing import StandardScaler,MinMaxScaler\n",
    "from sklearn.decomposition import SparsePCA,PCA\n",
    "from sklearn.cluster import KMeans\n",
    "from sklearn.naive_bayes import GaussianNB\n",
    "from sklearn.metrics import accuracy_score,precision_score,recall_score\n",
    "\n",
    "from sklearn.linear_model import LogisticRegression\n",
    "from sklearn.svm import SVC\n",
    "\n",
    "from sklearn.metrics import confusion_matrix\n",
    "\n",
    "\n",
    "from sklearn import tree"
   ]
  },
  {
   "cell_type": "code",
   "execution_count": 13,
   "metadata": {},
   "outputs": [],
   "source": [
    "def getdata(query):\n",
    "    with open('config.json', 'r') as f:\n",
    "        config_dict = json.load(f)\n",
    "    #print(config_dict)\n",
    "    #print(config_dict['password'])\n",
    "    record = 0\n",
    "    #string = \"user=config_dict['user'] password = config_dict['password'] host = config_dict['host'] dbname = config_dict['dbname'] port = config_dict['port']\"\n",
    "    try:\n",
    "        connection = psycopg2.connect(user=config_dict['user'],\n",
    "                                      password=config_dict['password'],\n",
    "                                      host=config_dict['host'],\n",
    "                                      dbname=config_dict['dbname'],\n",
    "                                      port=config_dict['port'])\n",
    "        cursor = connection.cursor()\n",
    "        # Print PostgreSQL Connection properties\n",
    "        print ( connection.get_dsn_parameters(),\"\\n\")\n",
    "        # Print PostgreSQL version\n",
    "        #cursor.execute(\"SELECT version();\")\n",
    "        cursor.execute(query)\n",
    "        record = cursor.fetchall()\n",
    "        #print(\"You are connected to - \", record,\"\\n\")\n",
    "    except (Exception, psycopg2.Error) as error :\n",
    "        print (\"Error while connecting to PostgreSQL\", error)\n",
    "    finally:\n",
    "        #closing database connection.\n",
    "            if(connection):\n",
    "                cursor.close()\n",
    "                connection.close()\n",
    "                print(\"PostgreSQL connection is closed\")\n",
    "    return record;"
   ]
  },
  {
   "cell_type": "markdown",
   "metadata": {},
   "source": [
    "t-sne and decision tree"
   ]
  },
  {
   "cell_type": "code",
   "execution_count": 17,
   "metadata": {},
   "outputs": [
    {
     "name": "stdout",
     "output_type": "stream",
     "text": [
      "{'user': 'mlcalss', 'dbname': 'nydn', 'host': 'dbt-dpl-dev.c913t1mfbggj.us-east-1.redshift.amazonaws.com', 'port': '5439', 'tty': '', 'options': '', 'sslmode': 'prefer', 'sslcompression': '0', 'krbsrvname': 'postgres', 'target_session_attrs': 'any'} \n",
      "\n",
      "PostgreSQL connection is closed\n",
      "32400 3600 4000\n",
      "2\n"
     ]
    }
   ],
   "source": [
    "# SVM section\n",
    "\n",
    "#total_engaged_time, days_since_user_signup\n",
    "query = '''SELECT\n",
    "    total_engaged_time, months_since_user_signup, total_overview_views,\n",
    "         total_search_views,total_export_actions,total_report_actions,\n",
    "         total_detail_views,total_overlay_views,total_info_views,\n",
    "         total_referrer_views,\n",
    "         total_author_views,total_section_views,total_tag_views,total_page_type_views,total_settings_views,\n",
    "         total_campaign_group_actions,total_campaign_views,total_share_page_actions,\n",
    "         total_token_actions,\n",
    "         did_return_visit \n",
    "   FROM visitors_by_month;'''\n",
    "\n",
    "query = '''(SELECT TOP 20000\n",
    "    total_engaged_time, months_since_user_signup, total_overview_views,\n",
    "         total_search_views,total_export_actions,total_report_actions,\n",
    "         total_detail_views,total_overlay_views,total_info_views,\n",
    "         total_referrer_views,\n",
    "         total_author_views,total_section_views,total_tag_views,total_page_type_views,total_settings_views,\n",
    "         total_campaign_group_actions,total_campaign_views,total_share_page_actions,\n",
    "         total_token_actions,\n",
    "         did_return_visit \n",
    "   FROM visitors_by_month\n",
    "   where did_return_visit = 0 \n",
    "   )\n",
    "UNION ALL\n",
    "(SELECT TOP 20000\n",
    "    total_engaged_time, months_since_user_signup, total_overview_views,\n",
    "         total_search_views,total_export_actions,total_report_actions,\n",
    "         total_detail_views,total_overlay_views,total_info_views,\n",
    "         total_referrer_views,\n",
    "         total_author_views,total_section_views,total_tag_views,total_page_type_views,total_settings_views,\n",
    "         total_campaign_group_actions,total_campaign_views,total_share_page_actions,\n",
    "         total_token_actions,\n",
    "         did_return_visit \n",
    "   FROM visitors_by_month\n",
    "   where did_return_visit = 1 \n",
    "   );'''\n",
    "\n",
    "\n",
    "data = getdata(query)\n",
    "data = [[data if data is not None else 0 for data in x_i] for x_i in data]\n",
    "data = [(x_i[0:len(x_i)-1],x_i[-1]) for x_i in data]\n",
    "\n",
    "X = [x_i[0] for x_i in data]\n",
    "y = [x_i[1] for x_i in data]\n",
    "\n",
    "# train,valid, test split\n",
    "# train = data[0:9999]\n",
    "# valid = data[10000:10999]\n",
    "# test = data[11000:11999]\n",
    "\n",
    "X_train, X_test, y_train, y_test = train_test_split(X, y, test_size=0.1, random_state=1)\n",
    "\n",
    "X_train, X_valid, y_train, y_valid = train_test_split(X_train, y_train, test_size=0.1, random_state=1)\n",
    "\n",
    "print(len(X_train),len(X_valid),len(X_test))\n",
    "\n",
    "\n",
    "# # subsample from training to fix inbalance\n",
    "# red = np.array([x_i for x_i in train if x_i[-1] ==1])\n",
    "# blue = np.array([x_i for x_i in train if x_i[-1] ==0])\n",
    "# num = min(len(red),len(blue))\n",
    "\n",
    "# newred = red[0:num]\n",
    "# newblue = blue[0:num]\n",
    "\n",
    "# print(\"hihi\",len(newred),len(newblue))\n",
    "# train = np.concatenate((newred,newblue))\n",
    "# print(\"hi\",train[0])\n",
    "\n",
    "# split \n",
    "\n",
    "# X_train = [x_i[0] for x_i in train]\n",
    "# y_train = [x_i[1] for x_i in train]\n",
    "# X_valid = [x_i[0] for x_i in valid]\n",
    "# y_valid = [x_i[1] for x_i in valid]\n",
    "\n",
    "# print('xtrain',X_train[0:5])\n",
    "# don't touch the test set until final report!!!!!!!!\n",
    "#X_test = [i[0] for i in test]\n",
    "#y_test = [i[1] for i in test]\n",
    "\n",
    "\n",
    "\n",
    "# # train pca\n",
    "X_train = StandardScaler().fit_transform(X_train)\n",
    "X_valid = StandardScaler().fit_transform(X_valid)\n",
    "#pca = SparsePCA(n_components=6)\n",
    "pca = PCA(2)\n",
    "pca.fit(X_train) \n",
    "\n",
    "print(pca.n_components_ )\n",
    "\n",
    "\n"
   ]
  },
  {
   "cell_type": "code",
   "execution_count": 18,
   "metadata": {},
   "outputs": [
    {
     "name": "stdout",
     "output_type": "stream",
     "text": [
      "confusion matrix [[ 162 1650]\n",
      " [ 194 1594]]\n",
      "accuracy 0.48777777777777775\n",
      "precision 0.4913686806411837\n",
      "recall 0.8914988814317674\n"
     ]
    }
   ],
   "source": [
    "from sklearn.neighbors import KNeighborsClassifier\n",
    "#embed data\n",
    "newX_train = pca.transform(X_train)\n",
    "newX_valid = pca.transform(X_valid)\n",
    "\n",
    "knn = KNeighborsClassifier()\n",
    "knn.fit(newX_train,y_train)\n",
    "y_pred = knn.predict(newX_valid)\n",
    "print('confusion matrix', confusion_matrix(y_valid,y_pred))\n",
    "print('accuracy',accuracy_score(y_pred,y_valid))\n",
    "print('precision',precision_score(y_valid,y_pred))\n",
    "print('recall',recall_score(y_valid,y_pred))"
   ]
  },
  {
   "cell_type": "code",
   "execution_count": 19,
   "metadata": {},
   "outputs": [
    {
     "name": "stdout",
     "output_type": "stream",
     "text": [
      "[-0.20105652 -0.20615998]\n",
      "1 1\n"
     ]
    },
    {
     "data": {
      "image/png": "[encoded data removed]",
      "text/plain": [
       "<Figure size 432x288 with 1 Axes>"
      ]
     },
     "metadata": {
      "needs_background": "light"
     },
     "output_type": "display_data"
    }
   ],
   "source": [
    "i = 2\n",
    "print(newX_valid[i])\n",
    "print(y_pred[i],y_valid[i])\n",
    "\n",
    "from mlxtend.plotting import plot_decision_regions\n",
    "value = 0\n",
    "width = 100000000000.75\n",
    "plot_decision_regions(newX_valid, np.array(y_valid), clf=knn, \n",
    "                      filler_feature_values={2: value},\n",
    "                      filler_feature_ranges={2: width},\n",
    "                      legend=2)\n",
    "plt.title('PCA KNN decision boundary')\n",
    "plt.xlabel('embedded feature 1')\n",
    "plt.ylabel('embedded feature 2')\n",
    "plt.show()"
   ]
  },
  {
   "cell_type": "code",
   "execution_count": null,
   "metadata": {},
   "outputs": [],
   "source": []
  },
  {
   "cell_type": "code",
   "execution_count": null,
   "metadata": {},
   "outputs": [],
   "source": []
  }
 ],
 "metadata": {
  "kernelspec": {
   "display_name": "Python 3",
   "language": "python",
   "name": "python3"
  },
  "language_info": {
   "codemirror_mode": {
    "name": "ipython",
    "version": 3
   },
   "file_extension": ".py",
   "mimetype": "text/x-python",
   "name": "python",
   "nbconvert_exporter": "python",
   "pygments_lexer": "ipython3",
   "version": "3.7.3"
  }
 },
 "nbformat": 4,
 "nbformat_minor": 2
}
