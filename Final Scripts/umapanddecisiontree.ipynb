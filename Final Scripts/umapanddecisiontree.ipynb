{
 "cells": [
  {
   "cell_type": "markdown",
   "metadata": {},
   "source": [
    "init scripts"
   ]
  },
  {
   "cell_type": "code",
   "execution_count": 2,
   "metadata": {},
   "outputs": [],
   "source": [
    "import psycopg2\n",
    "import random\n",
    "import json\n",
    "import numpy as np\n",
    "import matplotlib.pyplot as plt\n",
    "\n",
    "from sklearn.model_selection import train_test_split\n",
    "from sklearn.preprocessing import StandardScaler,MinMaxScaler\n",
    "from sklearn.decomposition import SparsePCA,PCA\n",
    "from sklearn.cluster import KMeans\n",
    "from sklearn.naive_bayes import GaussianNB\n",
    "from sklearn.metrics import accuracy_score,precision_score,recall_score\n",
    "\n",
    "from sklearn.linear_model import LogisticRegression\n",
    "from sklearn.svm import SVC\n",
    "\n",
    "from sklearn.metrics import confusion_matrix\n",
    "\n",
    "\n",
    "from sklearn import tree"
   ]
  },
  {
   "cell_type": "code",
   "execution_count": 3,
   "metadata": {},
   "outputs": [],
   "source": [
    "def getdata(query):\n",
    "    with open('config.json', 'r') as f:\n",
    "        config_dict = json.load(f)\n",
    "    #print(config_dict)\n",
    "    #print(config_dict['password'])\n",
    "    record = 0\n",
    "    #string = \"user=config_dict['user'] password = config_dict['password'] host = config_dict['host'] dbname = config_dict['dbname'] port = config_dict['port']\"\n",
    "    try:\n",
    "        connection = psycopg2.connect(user=config_dict['user'],\n",
    "                                      password=config_dict['password'],\n",
    "                                      host=config_dict['host'],\n",
    "                                      dbname=config_dict['dbname'],\n",
    "                                      port=config_dict['port'])\n",
    "        cursor = connection.cursor()\n",
    "        # Print PostgreSQL Connection properties\n",
    "        print ( connection.get_dsn_parameters(),\"\\n\")\n",
    "        # Print PostgreSQL version\n",
    "        #cursor.execute(\"SELECT version();\")\n",
    "        cursor.execute(query)\n",
    "        record = cursor.fetchall()\n",
    "        #print(\"You are connected to - \", record,\"\\n\")\n",
    "    except (Exception, psycopg2.Error) as error :\n",
    "        print (\"Error while connecting to PostgreSQL\", error)\n",
    "    finally:\n",
    "        #closing database connection.\n",
    "            if(connection):\n",
    "                cursor.close()\n",
    "                connection.close()\n",
    "                print(\"PostgreSQL connection is closed\")\n",
    "    return record;"
   ]
  },
  {
   "cell_type": "markdown",
   "metadata": {},
   "source": [
    "umap and decision tree"
   ]
  },
  {
   "cell_type": "code",
   "execution_count": 4,
   "metadata": {},
   "outputs": [
    {
     "name": "stdout",
     "output_type": "stream",
     "text": [
      "{'user': 'mlcalss', 'dbname': 'nydn', 'host': 'dbt-dpl-dev.c913t1mfbggj.us-east-1.redshift.amazonaws.com', 'port': '5439', 'tty': '', 'options': '', 'sslmode': 'prefer', 'sslcompression': '0', 'krbsrvname': 'postgres', 'target_session_attrs': 'any'} \n",
      "\n",
      "PostgreSQL connection is closed\n",
      "UMAP(a=None, angular_rp_forest=False, b=None, init='spectral',\n",
      "     learning_rate=1.0, local_connectivity=1.0, metric='euclidean',\n",
      "     metric_kwds=None, min_dist=0.1, n_components=20, n_epochs=None,\n",
      "     n_neighbors=47, negative_sample_rate=5, random_state=None,\n",
      "     repulsion_strength=1.0, set_op_mix_ratio=1.0, spread=1.0,\n",
      "     target_metric='categorical', target_metric_kwds=None,\n",
      "     target_n_neighbors=-1, target_weight=0.5, transform_queue_size=4.0,\n",
      "     transform_seed=42, verbose=1)\n",
      "Construct fuzzy simplicial set\n",
      "Thu Dec 12 21:47:35 2019 Finding Nearest Neighbors\n",
      "Thu Dec 12 21:47:35 2019 Building RP forest with 11 trees\n",
      "Thu Dec 12 21:47:36 2019 NN descent for 14 iterations\n",
      "\t 0  /  14\n",
      "\t 1  /  14\n",
      "Thu Dec 12 21:47:42 2019 Finished Nearest Neighbor Search\n",
      "Thu Dec 12 21:47:45 2019 Construct embedding\n",
      "\tcompleted  0  /  200 epochs\n",
      "\tcompleted  20  /  200 epochs\n",
      "\tcompleted  40  /  200 epochs\n",
      "\tcompleted  60  /  200 epochs\n",
      "\tcompleted  80  /  200 epochs\n",
      "\tcompleted  100  /  200 epochs\n",
      "\tcompleted  120  /  200 epochs\n",
      "\tcompleted  140  /  200 epochs\n",
      "\tcompleted  160  /  200 epochs\n",
      "\tcompleted  180  /  200 epochs\n",
      "Thu Dec 12 21:48:23 2019 Finished embedding\n",
      "[ 0.6220026  -0.19258788  0.95464176 -3.404503   -0.05708137 -3.329761\n",
      " -1.569537    0.69370425 -2.8231456   3.3577764  -1.141402   -2.4708111\n",
      " -1.0868113  -3.2015953   0.2376079  -6.0924277  -0.38520637  2.664703\n",
      "  1.9684271   3.0937061 ]\n"
     ]
    }
   ],
   "source": [
    "import psycopg2\n",
    "import json\n",
    "import numpy as np\n",
    "from sklearn.neighbors import KNeighborsClassifier\n",
    "import umap\n",
    "from sklearn.svm import SVC\n",
    "import matplotlib.pyplot as plt\n",
    "import warnings\n",
    "warnings.filterwarnings('ignore')\n",
    "\n",
    "#Get some data and make lists of embeddings with different values for neighbors and dimensions (components)\n",
    "query_umap_totals = '''(SELECT TOP 10000\n",
    "apikey_muvs,\n",
    "total_engaged_time, months_since_user_signup, \n",
    "total_overview_views, total_search_views, \n",
    "total_export_actions, total_report_actions, \n",
    "total_detail_views, total_overlay_views, \n",
    "total_info_views, total_referrer_views,\n",
    "total_author_views, total_section_views,  \n",
    "total_tag_views, total_page_type_views,  \n",
    "total_settings_views, total_campaign_group_actions, total_campaign_views,  \n",
    "total_share_page_actions,  total_token_actions, did_return_visit \n",
    "   FROM visitors_by_month\n",
    "   where did_return_visit = 0 \n",
    "   ORDER BY RANDOM())\n",
    "UNION ALL\n",
    "(SELECT TOP 10000\n",
    "apikey_muvs,\n",
    "total_engaged_time,months_since_user_signup, \n",
    "total_overview_views, total_search_views, \n",
    "total_export_actions, total_report_actions, \n",
    "total_detail_views, total_overlay_views, \n",
    "total_info_views, total_referrer_views,\n",
    "total_author_views, total_section_views,  \n",
    "total_tag_views, total_page_type_views,  \n",
    "total_settings_views, total_campaign_group_actions, total_campaign_views,  \n",
    "total_share_page_actions,  total_token_actions, did_return_visit\n",
    "   FROM visitors_by_month\n",
    "   where did_return_visit = 1 \n",
    "   ORDER BY RANDOM());'''\n",
    "data_umap_totals = getdata(query_umap_totals)\n",
    "data_umap_totals = [[data if data is not None else 0 for data in x_i] for x_i in data_umap_totals]\n",
    "X_totals = [x_i[0:len(x_i)-1] for x_i in data_umap_totals]\n",
    "y_totals = [x_i[-1] for x_i in data_umap_totals]\n",
    "\n",
    "X_totals, X_test, y_totals, y_test = train_test_split(X_totals, y_totals, test_size = 0.1, random_state = 627)\n",
    "X_train, X_valid, y_train, y_valid = train_test_split(X_totals, y_totals, test_size = 0.1, random_state = 627)\n",
    "    \n",
    "\n",
    "#for neighbors in [3,5,10,20,30,40,50]:\n",
    "model = umap.UMAP(n_neighbors = 47, n_components = 20,verbose=1)\n",
    "X_train = model.fit_transform(X = X_train) #, y = y_train);\n",
    "print(X_train[0])"
   ]
  },
  {
   "cell_type": "code",
   "execution_count": 25,
   "metadata": {},
   "outputs": [
    {
     "name": "stdout",
     "output_type": "stream",
     "text": [
      "\tcompleted  0  /  100 epochs\n",
      "\tcompleted  10  /  100 epochs\n",
      "\tcompleted  20  /  100 epochs\n",
      "\tcompleted  30  /  100 epochs\n",
      "\tcompleted  40  /  100 epochs\n",
      "\tcompleted  50  /  100 epochs\n",
      "\tcompleted  60  /  100 epochs\n",
      "\tcompleted  70  /  100 epochs\n",
      "\tcompleted  80  /  100 epochs\n",
      "\tcompleted  90  /  100 epochs\n",
      "confusion matrix [[404 259]\n",
      " [520 617]]\n",
      "accuracy 0.5672222222222222\n",
      "precision 0.5426561125769569\n",
      "recall 0.704337899543379\n"
     ]
    }
   ],
   "source": [
    "# Decision Tree\n",
    "from sklearn.tree import DecisionTreeClassifier\n",
    "\n",
    "newX_train = model.embedding_\n",
    "newX_valid = model.transform(X_valid)\n",
    "\n",
    "dtc = DecisionTreeClassifier(criterion='gini', \n",
    "                             splitter='best', \n",
    "                             max_depth=8)\n",
    "dtc.fit(newX_train,y_train)\n",
    "y_pred = dtc.predict(newX_valid)\n",
    "print('confusion matrix', confusion_matrix(y_pred,y_valid))\n",
    "print('accuracy',accuracy_score(y_pred,y_valid))\n",
    "print('precision',precision_score(y_valid,y_pred))\n",
    "print('recall',recall_score(y_valid,y_pred))"
   ]
  },
  {
   "cell_type": "code",
   "execution_count": 24,
   "metadata": {},
   "outputs": [
    {
     "name": "stdout",
     "output_type": "stream",
     "text": [
      "[ 1.9411060e+00 -2.1466119e+00  2.5198481e+00  2.3665714e+00\n",
      "  1.9100534e+00 -3.3623440e+00 -5.6645846e+00 -1.3680716e-01\n",
      "  3.8959856e+00 -7.4354997e+00 -2.1622109e+00 -7.4358764e+00\n",
      " -1.3636162e+00 -3.8350015e+00 -1.5006036e-01 -1.2088866e+01\n",
      " -1.4395100e+00  2.4588678e+00  2.6612377e+00  1.2879168e-03]\n",
      "0 0\n"
     ]
    },
    {
     "data": {
      "image/png": "[encoded data removed]",
      "text/plain": [
       "<Figure size 432x288 with 1 Axes>"
      ]
     },
     "metadata": {
      "needs_background": "light"
     },
     "output_type": "display_data"
    }
   ],
   "source": [
    "i = 2\n",
    "print(newX_valid[i])\n",
    "print(y_pred[i],y_valid[i])\n",
    "\n",
    "from mlxtend.plotting import plot_decision_regions\n",
    "\n",
    "\n",
    "value = 0\n",
    "width = 100000000000.75\n",
    "\n",
    "\n",
    "plot_decision_regions(newX_valid, np.array(y_valid), clf=dtc, \n",
    "                      filler_feature_values={2: value, \n",
    "                                             3: value,\n",
    "                                             4: value,\n",
    "                                             5: value,\n",
    "                                             6: value,\n",
    "                                             7: value,\n",
    "                                             8: value,\n",
    "                                             9: value,\n",
    "                                             10: value,\n",
    "                                             11: value,\n",
    "                                             12: value,\n",
    "                                             13: value,\n",
    "                                             14: value,\n",
    "                                             15: value,\n",
    "                                             16: value,\n",
    "                                             17: value,\n",
    "                                             18: value,\n",
    "                                             19: value},\n",
    "                       filler_feature_ranges={2: width, \n",
    "                                              3: width,\n",
    "                                              4: width,\n",
    "                                              5: width,\n",
    "                                              6: width,\n",
    "                                              7: width,\n",
    "                                              8: width,\n",
    "                                              9: width,\n",
    "                                              10: width,\n",
    "                                              11: width,\n",
    "                                              12: width,\n",
    "                                              13: width,\n",
    "                                              14: width,\n",
    "                                              15: width,\n",
    "                                              16: width,\n",
    "                                              17: width,\n",
    "                                              18: width,\n",
    "                                              19: width},                  \n",
    "                      legend=2)\n",
    "\n",
    "plt.title('umap decision tree decision boundary')\n",
    "plt.xlabel('embedded feature 1')\n",
    "plt.ylabel('embedded feature 2')\n",
    "plt.show()"
   ]
  },
  {
   "cell_type": "code",
   "execution_count": null,
   "metadata": {},
   "outputs": [],
   "source": []
  },
  {
   "cell_type": "code",
   "execution_count": null,
   "metadata": {},
   "outputs": [],
   "source": []
  }
 ],
 "metadata": {
  "kernelspec": {
   "display_name": "Python 3",
   "language": "python",
   "name": "python3"
  },
  "language_info": {
   "codemirror_mode": {
    "name": "ipython",
    "version": 3
   },
   "file_extension": ".py",
   "mimetype": "text/x-python",
   "name": "python",
   "nbconvert_exporter": "python",
   "pygments_lexer": "ipython3",
   "version": "3.7.3"
  }
 },
 "nbformat": 4,
 "nbformat_minor": 2
}
