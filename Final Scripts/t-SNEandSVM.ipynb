{
 "cells": [
  {
   "cell_type": "markdown",
   "metadata": {},
   "source": [
    "config"
   ]
  },
  {
   "cell_type": "code",
   "execution_count": 1,
   "metadata": {},
   "outputs": [],
   "source": [
    "import psycopg2\n",
    "import random\n",
    "import json\n",
    "import numpy as np\n",
    "import matplotlib.pyplot as plt\n",
    "\n",
    "from sklearn.model_selection import train_test_split\n",
    "from sklearn.preprocessing import StandardScaler,MinMaxScaler\n",
    "from sklearn.decomposition import SparsePCA,PCA\n",
    "from sklearn.cluster import KMeans\n",
    "from sklearn.naive_bayes import GaussianNB\n",
    "from sklearn.metrics import accuracy_score,precision_score,recall_score\n",
    "\n",
    "from sklearn.linear_model import LogisticRegression\n",
    "from sklearn.svm import SVC\n",
    "\n",
    "from sklearn.metrics import confusion_matrix\n",
    "\n",
    "\n",
    "from sklearn import tree"
   ]
  },
  {
   "cell_type": "code",
   "execution_count": 2,
   "metadata": {},
   "outputs": [],
   "source": [
    "def getdata(query):\n",
    "    with open('config.json', 'r') as f:\n",
    "        config_dict = json.load(f)\n",
    "    #print(config_dict)\n",
    "    #print(config_dict['password'])\n",
    "    record = 0\n",
    "    #string = \"user=config_dict['user'] password = config_dict['password'] host = config_dict['host'] dbname = config_dict['dbname'] port = config_dict['port']\"\n",
    "    try:\n",
    "        connection = psycopg2.connect(user=config_dict['user'],\n",
    "                                      password=config_dict['password'],\n",
    "                                      host=config_dict['host'],\n",
    "                                      dbname=config_dict['dbname'],\n",
    "                                      port=config_dict['port'])\n",
    "        cursor = connection.cursor()\n",
    "        # Print PostgreSQL Connection properties\n",
    "        print ( connection.get_dsn_parameters(),\"\\n\")\n",
    "        # Print PostgreSQL version\n",
    "        #cursor.execute(\"SELECT version();\")\n",
    "        cursor.execute(query)\n",
    "        record = cursor.fetchall()\n",
    "        #print(\"You are connected to - \", record,\"\\n\")\n",
    "    except (Exception, psycopg2.Error) as error :\n",
    "        print (\"Error while connecting to PostgreSQL\", error)\n",
    "    finally:\n",
    "        #closing database connection.\n",
    "            if(connection):\n",
    "                cursor.close()\n",
    "                connection.close()\n",
    "                print(\"PostgreSQL connection is closed\")\n",
    "    return record;"
   ]
  },
  {
   "cell_type": "markdown",
   "metadata": {},
   "source": [
    "t-sne and decision tree"
   ]
  },
  {
   "cell_type": "code",
   "execution_count": 3,
   "metadata": {},
   "outputs": [
    {
     "name": "stdout",
     "output_type": "stream",
     "text": [
      "{'user': 'mlcalss', 'dbname': 'nydn', 'host': 'dbt-dpl-dev.c913t1mfbggj.us-east-1.redshift.amazonaws.com', 'port': '5439', 'tty': '', 'options': '', 'sslmode': 'prefer', 'sslcompression': '0', 'krbsrvname': 'postgres', 'target_session_attrs': 'any'} \n",
      "\n",
      "PostgreSQL connection is closed\n"
     ]
    },
    {
     "name": "stderr",
     "output_type": "stream",
     "text": [
      "/home/dima/anaconda3/lib/python3.7/site-packages/openTSNE/nearest_neighbors.py:184: UserWarning: `pynndescent` has recently changed which distance metrics are supported, and `openTSNE.nearest_neighbors` has not been updated. Please notify the developers of this change.\n",
      "  \"`pynndescent` has recently changed which distance metrics are supported, \"\n",
      "/home/dima/anaconda3/lib/python3.7/site-packages/numba/ir_utils.py:1958: NumbaPendingDeprecationWarning: \u001b[1m\n",
      "Encountered the use of a type that is scheduled for deprecation: type 'reflected list' found for argument 'forest' of function 'initialise_search'.\n",
      "\n",
      "For more information visit http://numba.pydata.org/numba-doc/latest/reference/deprecation.html#deprecation-of-reflection-for-list-and-set-types\n",
      "\u001b[1m\n",
      "File \"../../../../anaconda3/lib/python3.7/site-packages/pynndescent/pynndescent_.py\", line 72:\u001b[0m\n",
      "\u001b[1m@numba.njit()\n",
      "\u001b[1mdef initialise_search(\n",
      "\u001b[0m\u001b[1m^\u001b[0m\u001b[0m\n",
      "\u001b[0m\n",
      "  warnings.warn(NumbaPendingDeprecationWarning(msg, loc=loc))\n"
     ]
    }
   ],
   "source": [
    "import openTSNE\n",
    "query = '''(SELECT TOP 3000\n",
    "total_referrer_views,\n",
    "total_detail_views,\n",
    "total_report_actions,\n",
    "total_search_views,\n",
    "months_since_user_signup,\n",
    "total_engaged_time,\n",
    "total_overview_views,\n",
    "total_info_views,\n",
    "total_tag_views,\n",
    "total_author_views,\n",
    "total_section_views,\n",
    "did_return_visit \n",
    "   FROM visitors_by_month\n",
    "   where did_return_visit = 0 \n",
    "   ORDER BY RANDOM())\n",
    "UNION ALL\n",
    "(SELECT TOP 3000\n",
    "total_referrer_views,\n",
    "total_detail_views,\n",
    "total_report_actions,\n",
    "total_search_views,\n",
    "months_since_user_signup,\n",
    "total_engaged_time,\n",
    "total_overview_views,\n",
    "total_info_views,\n",
    "total_tag_views,\n",
    "total_author_views,\n",
    "total_section_views,\n",
    "did_return_visit \n",
    "   FROM visitors_by_month\n",
    "   where did_return_visit = 1 \n",
    "   ORDER BY RANDOM());'''\n",
    "\n",
    "\n",
    "data = getdata(query)\n",
    "data = [[data if data is not None else 0 for data in x_i] for x_i in data]\n",
    "data = [(x_i[0:len(x_i)-1],x_i[-1]) for x_i in data] \n",
    "\n",
    "X = [x_i[0] for x_i in data]\n",
    "y = [x_i[1] for x_i in data]\n",
    "\n",
    "# train,valid, test split\n",
    "\n",
    "\n",
    "\n",
    "\n",
    "# X_train = StandardScaler(X_train)\n",
    "# X_valid = StandardScaler(X_valid)\n",
    "\n",
    "\n",
    "features = [\n",
    "        'total_referrer_views',\n",
    "        'total_detail_views',\n",
    "        'total_report_actions',\n",
    "        'total_search_views',\n",
    "        'months_since_user_signup', \n",
    "        'total_engaged_time', \n",
    "        'total_overview_views',\n",
    "        'total_info_views',\n",
    "        'total_tag_views',\n",
    "        'total_author_views',\n",
    "        'total_section_views'\n",
    "        ]\n",
    "feature_ids = range(len(features))\n",
    "dim = 2\n",
    "\n",
    "X_train, X_test, y_train, y_test = train_test_split(X, y, test_size=0.1, random_state=1)\n",
    "X_train, X_valid, y_train, y_valid = train_test_split(X_train, y_train, test_size=0.1, random_state=1)\n",
    "\n",
    "X_train = np.array(X_train)\n",
    "X_valid = np.array(X_valid)\n",
    "\n",
    "tsne = openTSNE.TSNE(n_components=dim,perplexity = 37)\n",
    "embedding = tsne.fit(X_train)\n"
   ]
  },
  {
   "cell_type": "code",
   "execution_count": 18,
   "metadata": {},
   "outputs": [
    {
     "name": "stdout",
     "output_type": "stream",
     "text": [
      "[LibSVM]confusion matrix [[169 126]\n",
      " [ 95 150]]\n",
      "precision: 0.5434782608695652\n",
      "recall: 0.6122448979591837\n",
      "accuracy: 0.5907407407407408\n"
     ]
    }
   ],
   "source": [
    "#embed data\n",
    "newX_train = embedding\n",
    "newX_valid = embedding.transform(X_valid)\n",
    "\n",
    "svc = SVC(kernel = 'rbf',gamma = 'scale',C=5,verbose=1)\n",
    "svc.fit(newX_train, y_train)\n",
    "y_pred = svc.predict(newX_valid)\n",
    "mat =confusion_matrix(y_pred,y_valid)\n",
    "tn, fp, fn, tp = mat.ravel()\n",
    "print('confusion matrix', confusion_matrix(y_pred,y_valid))\n",
    "print('precision:',precision_score(y_pred,y_valid))\n",
    "print('recall:',recall_score(y_pred,y_valid))\n",
    "print('accuracy:',accuracy_score(y_pred,y_valid))"
   ]
  },
  {
   "cell_type": "markdown",
   "metadata": {},
   "source": [
    "error example"
   ]
  },
  {
   "cell_type": "code",
   "execution_count": 19,
   "metadata": {
    "scrolled": true
   },
   "outputs": [
    {
     "name": "stdout",
     "output_type": "stream",
     "text": [
      "[ 15.79076132 -13.45661178]\n",
      "1 0\n"
     ]
    },
    {
     "data": {
      "image/png": "[encoded data removed]",
      "text/plain": [
       "<Figure size 432x288 with 1 Axes>"
      ]
     },
     "metadata": {
      "needs_background": "light"
     },
     "output_type": "display_data"
    }
   ],
   "source": [
    "i = 2\n",
    "print(newX_valid[i])\n",
    "print(y_pred[i],y_valid[i])\n",
    "\n",
    "from mlxtend.plotting import plot_decision_regions\n",
    "\n",
    "plot_decision_regions(newX_valid, np.array(y_valid), clf=svc, legend=2)\n",
    "plt.title('t-SNE SVM decision boundary')\n",
    "plt.xlabel('embedded feature 1')\n",
    "plt.ylabel('embedded feature 2')\n",
    "plt.show()"
   ]
  },
  {
   "cell_type": "code",
   "execution_count": null,
   "metadata": {},
   "outputs": [],
   "source": []
  }
 ],
 "metadata": {
  "kernelspec": {
   "display_name": "Python 3",
   "language": "python",
   "name": "python3"
  },
  "language_info": {
   "codemirror_mode": {
    "name": "ipython",
    "version": 3
   },
   "file_extension": ".py",
   "mimetype": "text/x-python",
   "name": "python",
   "nbconvert_exporter": "python",
   "pygments_lexer": "ipython3",
   "version": "3.7.3"
  }
 },
 "nbformat": 4,
 "nbformat_minor": 2
}
